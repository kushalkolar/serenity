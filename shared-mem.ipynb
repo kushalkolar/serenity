{
 "cells": [
  {
   "cell_type": "code",
   "execution_count": 1,
   "id": "45fcb25d-e687-4fa5-af5e-fdcdf7efa12a",
   "metadata": {},
   "outputs": [],
   "source": [
    "import multiprocessing\n",
    "from multiprocessing.shared_memory import SharedMemory\n",
    "import numpy as np\n",
    "from fastplotlib import Plot\n",
    "import tifffile"
   ]
  },
  {
   "cell_type": "code",
   "execution_count": 2,
   "id": "1be2029d-d5db-4fc3-b13d-ff0809331a53",
   "metadata": {},
   "outputs": [],
   "source": [
    "# file path\n",
    "video_path = \"/home/clewis7/caiman_data/example_movies/demoMovie.tif\""
   ]
  },
  {
   "cell_type": "code",
   "execution_count": 3,
   "id": "8f8b4878-262f-4cb8-a6a6-f95cb7f3522a",
   "metadata": {},
   "outputs": [],
   "source": [
    "# reading video into RAM\n",
    "calcium = tifffile.imread(video_path)"
   ]
  },
  {
   "cell_type": "code",
   "execution_count": 5,
   "id": "ba85a5cd-6752-4985-bdd7-8ee2b72f4c3f",
   "metadata": {},
   "outputs": [
    {
     "data": {
      "text/plain": [
       "48000"
      ]
     },
     "execution_count": 5,
     "metadata": {},
     "output_type": "execute_result"
    }
   ],
   "source": [
    "# get size of data to create shared memory object\n",
    "calcium[0:250].nbytes"
   ]
  },
  {
   "cell_type": "markdown",
   "id": "381ca357-0574-485a-a1c2-471e6450b816",
   "metadata": {},
   "source": [
    "### create a shared memory and dump frames in"
   ]
  },
  {
   "cell_type": "code",
   "execution_count": 6,
   "id": "2bf5896a-2e39-4a99-8d7c-c7a8dc9d3d8e",
   "metadata": {},
   "outputs": [],
   "source": [
    "# goal: put frames into shared memory\n",
    "# grab those frames from another kernel and put it through onacid "
   ]
  },
  {
   "cell_type": "code",
   "execution_count": 7,
   "id": "585d6e1d-e0ab-4be8-9ef3-d7ff7450bc86",
   "metadata": {},
   "outputs": [],
   "source": [
    "shared_mem = SharedMemory(name=\"shared_mem\", create=True, size=calcium[0:250].nbytes)"
   ]
  },
  {
   "cell_type": "code",
   "execution_count": 8,
   "id": "ea6ef7b2-406f-4603-8c36-241cfd9709eb",
   "metadata": {},
   "outputs": [
    {
     "data": {
      "text/plain": [
       "SharedMemory('shared_mem', size=48000)"
      ]
     },
     "execution_count": 8,
     "metadata": {},
     "output_type": "execute_result"
    }
   ],
   "source": [
    "shared_mem"
   ]
  },
  {
   "cell_type": "code",
   "execution_count": 9,
   "id": "7c9a214a-9164-4895-909d-1950c0fbb4cb",
   "metadata": {},
   "outputs": [],
   "source": [
    "buffer_data = np.ndarray(calcium[0:250].shape, dtype=calcium[0:250].dtype, buffer=shared_mem.buf)"
   ]
  },
  {
   "cell_type": "code",
   "execution_count": 10,
   "id": "9debf43c-4dea-466e-a29b-5a36f2f3e165",
   "metadata": {},
   "outputs": [],
   "source": [
    "# putting first 250 frames into shared memory\n",
    "buffer_data[:] = calcium[0:250]"
   ]
  },
  {
   "cell_type": "code",
   "execution_count": null,
   "id": "103ae0d7-9fa4-463c-825a-90594cc1f3ba",
   "metadata": {},
   "outputs": [],
   "source": []
  }
 ],
 "metadata": {
  "kernelspec": {
   "display_name": "Python 3 (ipykernel)",
   "language": "python",
   "name": "python3"
  },
  "language_info": {
   "codemirror_mode": {
    "name": "ipython",
    "version": 3
   },
   "file_extension": ".py",
   "mimetype": "text/x-python",
   "name": "python",
   "nbconvert_exporter": "python",
   "pygments_lexer": "ipython3",
   "version": "3.9.2"
  }
 },
 "nbformat": 4,
 "nbformat_minor": 5
}
