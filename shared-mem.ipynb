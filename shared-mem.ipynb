{
 "cells": [
  {
   "cell_type": "code",
   "execution_count": 1,
   "id": "45fcb25d-e687-4fa5-af5e-fdcdf7efa12a",
   "metadata": {},
   "outputs": [],
   "source": [
    "import multiprocessing\n",
    "from multiprocessing.shared_memory import SharedMemory\n",
    "import numpy as np\n",
    "from fastplotlib import Plot\n",
    "import tifffile"
   ]
  },
  {
   "cell_type": "code",
   "execution_count": 2,
   "id": "1be2029d-d5db-4fc3-b13d-ff0809331a53",
   "metadata": {},
   "outputs": [],
   "source": [
    "# file path\n",
    "video_path = \"/data/kushal/cortex-learning/2p-trial-exps/eaf3/2022-12-18/calcium/s4/concat_s4.tif\""
   ]
  },
  {
   "cell_type": "code",
   "execution_count": 3,
   "id": "2a85a60c-bc5f-40fe-9537-1ec703594c52",
   "metadata": {},
   "outputs": [],
   "source": [
    "from mesmerize_core import load_batch"
   ]
  },
  {
   "cell_type": "code",
   "execution_count": null,
   "id": "628ecb36-09fc-4a37-83b1-2e6ea3e309ed",
   "metadata": {},
   "outputs": [],
   "source": []
  },
  {
   "cell_type": "code",
   "execution_count": 4,
   "id": "f581fee3-7281-4407-bbd2-17e4c20cc6be",
   "metadata": {},
   "outputs": [
    {
     "data": {
      "text/plain": [
       "{'main': {'fr': 15,\n",
       "  'p': 1,\n",
       "  'nb': 2,\n",
       "  'merge_thr': 0.85,\n",
       "  'rf': 24,\n",
       "  'stride': 12,\n",
       "  'K': 10,\n",
       "  'gSig': (6, 6),\n",
       "  'ssub': 1,\n",
       "  'tsub': 1,\n",
       "  'method_init': 'greedy_roi',\n",
       "  'min_SNR': 1.0,\n",
       "  'rval_thr': 0.8,\n",
       "  'use_cnn': True,\n",
       "  'min_cnn_thr': 0.8,\n",
       "  'cnn_lowest': 0.1,\n",
       "  'decay_time': 1.0},\n",
       " 'refit': True}"
      ]
     },
     "execution_count": 4,
     "metadata": {},
     "output_type": "execute_result"
    }
   ],
   "source": [
    "batch_path = \"/data/kushal/cortex-learning/2p-trial-exps/eaf3/mesmerize-batch/batch.pickle\"\n",
    "df = load_batch(batch_path)\n",
    "df.iloc[9][\"params\"]"
   ]
  },
  {
   "cell_type": "code",
   "execution_count": 5,
   "id": "71b24a2a-d402-4f06-971e-7a5c918c1bd8",
   "metadata": {},
   "outputs": [
    {
     "data": {
      "text/plain": [
       "{'main': {'max_shifts': (96, 96),\n",
       "  'strides': (96, 96),\n",
       "  'overlaps': (48, 48),\n",
       "  'max_deviation_rigid': 3,\n",
       "  'border_nan': 'copy',\n",
       "  'pw_rigid': True,\n",
       "  'gSig_filt': None,\n",
       "  'niter_rig': 4}}"
      ]
     },
     "execution_count": 5,
     "metadata": {},
     "output_type": "execute_result"
    }
   ],
   "source": [
    "df.iloc[3][\"params\"]"
   ]
  },
  {
   "cell_type": "code",
   "execution_count": 6,
   "id": "8f8b4878-262f-4cb8-a6a6-f95cb7f3522a",
   "metadata": {},
   "outputs": [],
   "source": [
    "# reading video into RAM\n",
    "calcium = tifffile.imread(video_path)"
   ]
  },
  {
   "cell_type": "code",
   "execution_count": 7,
   "id": "e45fca2d-595f-4a40-b004-4c375f662763",
   "metadata": {},
   "outputs": [
    {
     "data": {
      "text/plain": [
       "(8410, 512, 512)"
      ]
     },
     "execution_count": 7,
     "metadata": {},
     "output_type": "execute_result"
    }
   ],
   "source": [
    "calcium.shape"
   ]
  },
  {
   "cell_type": "code",
   "execution_count": 8,
   "id": "7bddc121-46a4-48d8-9bf1-7c017429dd91",
   "metadata": {},
   "outputs": [
    {
     "data": {
      "text/plain": [
       "4409262080"
      ]
     },
     "execution_count": 8,
     "metadata": {},
     "output_type": "execute_result"
    }
   ],
   "source": [
    "calcium.nbytes"
   ]
  },
  {
   "cell_type": "markdown",
   "id": "381ca357-0574-485a-a1c2-471e6450b816",
   "metadata": {},
   "source": [
    "### create a shared memory and dump frames in"
   ]
  },
  {
   "cell_type": "code",
   "execution_count": 9,
   "id": "48c8b0a0-15e0-4eb9-bbc1-7adbd62e73bd",
   "metadata": {},
   "outputs": [],
   "source": [
    "def create_shared_memory(shm_name, data):\n",
    "    try:\n",
    "        shm = SharedMemory(name=shm_name, create=True, size=data.nbytes)\n",
    "    except:\n",
    "        shm = SharedMemory(name=shm_name)\n",
    "        shm.close()\n",
    "        shm.unlink()\n",
    "        shm = SharedMemory(name=shm_name, create=True, size=data.nbytes)\n",
    "    return shm"
   ]
  },
  {
   "cell_type": "code",
   "execution_count": 10,
   "id": "2bf5896a-2e39-4a99-8d7c-c7a8dc9d3d8e",
   "metadata": {},
   "outputs": [],
   "source": [
    "# goal: put frames into shared memory\n",
    "# grab those frames from another kernel and put it through onacid "
   ]
  },
  {
   "cell_type": "code",
   "execution_count": 11,
   "id": "7a84c461-de43-413a-ac56-e76357ae8827",
   "metadata": {},
   "outputs": [],
   "source": [
    "shm = create_shared_memory(\"shared-mem\", calcium)"
   ]
  },
  {
   "cell_type": "code",
   "execution_count": 12,
   "id": "715e2d9b-1c73-4610-940b-6cf0bf077175",
   "metadata": {},
   "outputs": [],
   "source": [
    "buffer_data = np.ndarray(calcium.shape, dtype=calcium.dtype, buffer=shm.buf)\n",
    "buffer_data[:] = calcium"
   ]
  },
  {
   "cell_type": "code",
   "execution_count": null,
   "id": "0f7a99f3-b8c9-4381-b62b-da7c6e3112dc",
   "metadata": {},
   "outputs": [],
   "source": []
  }
 ],
 "metadata": {
  "kernelspec": {
   "display_name": "Python 3 (ipykernel)",
   "language": "python",
   "name": "python3"
  },
  "language_info": {
   "codemirror_mode": {
    "name": "ipython",
    "version": 3
   },
   "file_extension": ".py",
   "mimetype": "text/x-python",
   "name": "python",
   "nbconvert_exporter": "python",
   "pygments_lexer": "ipython3",
   "version": "3.9.2"
  }
 },
 "nbformat": 4,
 "nbformat_minor": 5
}
