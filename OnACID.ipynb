{
 "cells": [
  {
   "cell_type": "markdown",
   "id": "e15cd82b-48e1-4c2d-8249-6c76f33939d2",
   "metadata": {},
   "source": [
    "### using shared memory object previously created to run OnACID"
   ]
  },
  {
   "cell_type": "code",
   "execution_count": 2,
   "id": "2bb929d0-29b6-44e9-b941-31b3a69978e4",
   "metadata": {},
   "outputs": [],
   "source": [
    "import numpy as np\n",
    "from multiprocessing.shared_memory import SharedMemory\n",
    "import caiman as cm\n",
    "from caiman.source_extraction import cnmf\n",
    "from caiman.source_extraction.cnmf.online_cnmf import demix1p\n",
    "from caiman.utils.nn_models import (fit_NL_model, create_LN_model, quantile_loss, rate_scheduler)"
   ]
  },
  {
   "cell_type": "code",
   "execution_count": 3,
   "id": "302b9807-7335-4c66-ada7-7be1a286d6f9",
   "metadata": {},
   "outputs": [],
   "source": [
    "# Attach to the existing shared memory block\n",
    "existing_shm = SharedMemory(name=\"shared_mem\")\n",
    "\n",
    "c = np.ndarray((2000,60,80), dtype=np.int16, buffer=existing_shm.buf)"
   ]
  },
  {
   "cell_type": "code",
   "execution_count": 4,
   "id": "a9506a66-3d17-4bfe-ac78-d59a349752e0",
   "metadata": {},
   "outputs": [
    {
     "data": {
      "text/plain": [
       "19200000"
      ]
     },
     "execution_count": 4,
     "metadata": {},
     "output_type": "execute_result"
    }
   ],
   "source": [
    "c.nbytes"
   ]
  },
  {
   "cell_type": "code",
   "execution_count": 5,
   "id": "188b235f-0366-44e3-bdd6-1b057dd75325",
   "metadata": {},
   "outputs": [],
   "source": [
    "cnmf_shm = SharedMemory(name=\"cnmf_outputs\", create=True, size=c.nbytes)"
   ]
  },
  {
   "cell_type": "code",
   "execution_count": 6,
   "id": "b232f5bc-2981-456d-af36-5124ded21fda",
   "metadata": {},
   "outputs": [],
   "source": [
    "fname_init = \"/home/clewis7/caiman_data/example_movies/demoMovie.tif\""
   ]
  },
  {
   "cell_type": "code",
   "execution_count": 7,
   "id": "10a81c4f-55f1-46d0-9c55-7aef6abeda3b",
   "metadata": {},
   "outputs": [],
   "source": [
    "cnmf_data = np.ndarray(c.shape, dtype=c.dtype, buffer=cnmf_shm.buf)\n",
    "init_batch = 200  # number of frames to use for initialization\n",
    "T = 2000           # total number of frames \n",
    "fr = 10 "
   ]
  },
  {
   "cell_type": "code",
   "execution_count": 8,
   "id": "99492850-ef67-41fb-8629-0aa5d208a3c0",
   "metadata": {},
   "outputs": [
    {
     "name": "stderr",
     "output_type": "stream",
     "text": [
      "WARNING:root:gnb=0, hence setting keys nb_patch and low_rank_background in group patch automatically.\n"
     ]
    }
   ],
   "source": [
    "params_dict = {'fnames': fname_init,\n",
    "               'fr': fr,\n",
    "               'method_init': 'corr_pnr',\n",
    "               'K': None,\n",
    "               'gSig': (3, 3),\n",
    "               'gSiz': (13, 13),\n",
    "               'merge_thr': .65,\n",
    "               'p': 1,\n",
    "               'tsub': 1,\n",
    "               'ssub': 1,\n",
    "               'only_init': True,\n",
    "               'nb': 0,\n",
    "               'min_corr': .65,\n",
    "               'min_pnr': 6,\n",
    "               'normalize_init': False,\n",
    "               'ring_size_factor': 1.4,\n",
    "               'center_psf': True,\n",
    "               'ssub_B': 2,\n",
    "               'init_iter': 1,\n",
    "               's_min': -10,\n",
    "               'init_batch': init_batch,\n",
    "               'init_method': 'cnmf',\n",
    "               'batch_update_suff_stat': True,\n",
    "               'update_freq': 200,\n",
    "               'expected_comps': 600,\n",
    "               'update_num_comps': True,\n",
    "               'rval_thr': .55,\n",
    "               'thresh_fitness_raw': -130,\n",
    "               'thresh_fitness_delta': -20,\n",
    "               'min_SNR': 2.5,\n",
    "               'min_num_trial': 5,\n",
    "               'max_num_added': 5,\n",
    "               'use_corr_img': False,\n",
    "               'use_dense': False,\n",
    "               'motion_correct': True,     # flag for performing motion correction\n",
    "               'gSig_filt': (3, 3),        # size of high pass spatial filtering, used in 1p data\n",
    "               'use_cnn': False}\n",
    "opts = cnmf.params.CNMFParams(params_dict=params_dict)"
   ]
  },
  {
   "cell_type": "code",
   "execution_count": 9,
   "id": "7c70d873-105a-44bc-b48d-679e9815390f",
   "metadata": {},
   "outputs": [
    {
     "name": "stderr",
     "output_type": "stream",
     "text": [
      "WARNING:root:Movie average is negative. Removing 1st percentile.\n",
      "WARNING:root:Movie average is negative. Removing 1st percentile.\n",
      "WARNING:root:Movie average is negative. Removing 1st percentile.\n",
      "WARNING:root:Movie average is negative. Removing 1st percentile.\n",
      "WARNING:root:Movie average is negative. Removing 1st percentile.\n",
      "WARNING:root:Movie average is negative. Removing 1st percentile.\n",
      "/home/clewis7/venvs/mescore/lib/python3.9/site-packages/scipy/signal/_spectral_py.py:1999: UserWarning: nperseg = 256 is greater than input length  = 200, using nperseg = 200\n",
      "  warnings.warn('nperseg = {0:d} is greater than input length '\n",
      "/home/clewis7/venvs/mescore/lib/python3.9/site-packages/numpy/core/fromnumeric.py:43: VisibleDeprecationWarning: Creating an ndarray from ragged nested sequences (which is a list-or-tuple of lists-or-tuples-or ndarrays with different lengths or shapes) is deprecated. If you meant to do this, you must specify 'dtype=object' when creating the ndarray.\n",
      "  result = getattr(asarray(obj), method)(*args, **kwds)\n",
      "/home/clewis7/venvs/mescore/lib/python3.9/site-packages/scipy/signal/_spectral_py.py:1999: UserWarning: nperseg = 256 is greater than input length  = 200, using nperseg = 200\n",
      "  warnings.warn('nperseg = {0:d} is greater than input length '\n",
      "/home/clewis7/venvs/mescore/lib/python3.9/site-packages/scipy/signal/_spectral_py.py:1999: UserWarning: nperseg = 256 is greater than input length  = 200, using nperseg = 200\n",
      "  warnings.warn('nperseg = {0:d} is greater than input length '\n",
      "/home/clewis7/venvs/mescore/lib/python3.9/site-packages/numpy/core/fromnumeric.py:43: VisibleDeprecationWarning: Creating an ndarray from ragged nested sequences (which is a list-or-tuple of lists-or-tuples-or ndarrays with different lengths or shapes) is deprecated. If you meant to do this, you must specify 'dtype=object' when creating the ndarray.\n",
      "  result = getattr(asarray(obj), method)(*args, **kwds)\n",
      "/home/clewis7/venvs/mescore/lib/python3.9/site-packages/scipy/signal/_spectral_py.py:1999: UserWarning: nperseg = 256 is greater than input length  = 200, using nperseg = 200\n",
      "  warnings.warn('nperseg = {0:d} is greater than input length '\n",
      "/home/clewis7/venvs/mescore/lib/python3.9/site-packages/scipy/sparse/_dia.py:338: RuntimeWarning: divide by zero encountered in remainder\n",
      "  c = np.arange(num_rows, dtype=np.intc) - (offsets % max_dim)[:, None]\n"
     ]
    },
    {
     "data": {
      "text/plain": [
       "<caiman.source_extraction.cnmf.online_cnmf.OnACID at 0x7f9a515a3700>"
      ]
     },
     "execution_count": 9,
     "metadata": {},
     "output_type": "execute_result"
    }
   ],
   "source": [
    "cnm2 = cnmf.online_cnmf.OnACID(dview=None, params=opts)\n",
    "cnm2.initialize_online(T=T)"
   ]
  },
  {
   "cell_type": "code",
   "execution_count": 10,
   "id": "d4a440a0-b3c9-473d-ab5f-cdd204b49e27",
   "metadata": {},
   "outputs": [],
   "source": [
    "cnmf_data = np.ndarray(c.shape, dtype=c.dtype, buffer=cnmf_shm.buf)"
   ]
  },
  {
   "cell_type": "code",
   "execution_count": 11,
   "id": "a309df29-7581-4be9-907d-d53074fd998f",
   "metadata": {},
   "outputs": [],
   "source": [
    "from multiprocessing import Process, Queue\n",
    "from time import time, sleep"
   ]
  },
  {
   "cell_type": "code",
   "execution_count": 12,
   "id": "13a1fa17-e341-48c2-b32a-bf81e4c89da2",
   "metadata": {},
   "outputs": [
    {
     "name": "stdout",
     "output_type": "stream",
     "text": [
      "Realtime: \u001b[32mTrue\u001b[0m                                                                                        \r"
     ]
    }
   ],
   "source": [
    "q = Queue()\n",
    "cnm2.t_wait = []\n",
    "cnm2.t_motion = []\n",
    "cnm2.t_fit = []\n",
    "realtime = []\n",
    "\n",
    "def append_to_queue(q, init_batch, T, fr):\n",
    "    t_start = time()\n",
    "    for t in range(init_batch, T):\n",
    "        # read frame and append to queue\n",
    "        frame = c[t]\n",
    "        q.put(frame)\n",
    "        sleep(max(0, (t+1-init_batch)/fr - time()+t_start))\n",
    "\n",
    "producer = Process(target=append_to_queue, args=(q,init_batch,T,fr))\n",
    "producer.start()\n",
    "\n",
    "# process first frame\n",
    "t = init_batch\n",
    "# read form queue (wait for next frame if empty)\n",
    "t0=time()\n",
    "frame = q.get()\n",
    "cnm2.t_wait.append(time()-t0)\n",
    "t_start = time() + (1-init_batch)/fr\n",
    "# motion correct\n",
    "t0 = time()\n",
    "frame = cnm2.mc_next(t, frame)\n",
    "cnm2.t_motion.append(time()-t0)\n",
    "# fit\n",
    "t0 = time()\n",
    "cnm2.fit_next(t, frame.ravel(order='F'))\n",
    "cnm2.t_fit.append(time()-t0)\n",
    "rt = time() <= t_start + t/fr\n",
    "realtime.append(rt)\n",
    "\n",
    "# process remaining frames\n",
    "for t in range(init_batch+1, T):\n",
    "    # read form queue (wait for next frame if empty)\n",
    "    t0=time()\n",
    "    frame = q.get()\n",
    "    cnm2.t_wait.append(time()-t0)\n",
    "    # motion correct\n",
    "    t0 = time()\n",
    "    frame = cnm2.mc_next(t, frame)\n",
    "    cnm2.t_motion.append(time()-t0)\n",
    "    # fit\n",
    "    t0 = time()\n",
    "    cnm2.fit_next(t, frame.ravel(order='F'))\n",
    "    cnm2.t_fit.append(time()-t0)\n",
    "    rt = time() <= t_start + t/fr\n",
    "    realtime.append(rt)\n",
    "    # add code to display whatever you want in order to guide the closed-loop experiment below\n",
    "    print('Realtime: ' + (\"\\x1b[32mTrue\\x1b[0m\" if rt else \"\\x1b[31mFalse\\x1b[0m\"), end=\"  \\r\", flush=True)"
   ]
  },
  {
   "cell_type": "code",
   "execution_count": 19,
   "id": "5ec6a957-a49d-417a-bf28-36dd5eaf290d",
   "metadata": {},
   "outputs": [
    {
     "data": {
      "text/plain": [
       "caiman.source_extraction.cnmf.online_cnmf.OnACID"
      ]
     },
     "execution_count": 19,
     "metadata": {},
     "output_type": "execute_result"
    }
   ],
   "source": [
    "type(cnm2)"
   ]
  },
  {
   "cell_type": "code",
   "execution_count": null,
   "id": "0ca611c4-d9c1-4231-ab97-59ddf976603e",
   "metadata": {},
   "outputs": [],
   "source": []
  }
 ],
 "metadata": {
  "kernelspec": {
   "display_name": "Python 3 (ipykernel)",
   "language": "python",
   "name": "python3"
  },
  "language_info": {
   "codemirror_mode": {
    "name": "ipython",
    "version": 3
   },
   "file_extension": ".py",
   "mimetype": "text/x-python",
   "name": "python",
   "nbconvert_exporter": "python",
   "pygments_lexer": "ipython3",
   "version": "3.9.2"
  }
 },
 "nbformat": 4,
 "nbformat_minor": 5
}
