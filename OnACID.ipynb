{
 "cells": [
  {
   "cell_type": "markdown",
   "id": "e15cd82b-48e1-4c2d-8249-6c76f33939d2",
   "metadata": {},
   "source": [
    "### using shared memory object previously created to run OnACID"
   ]
  },
  {
   "cell_type": "code",
   "execution_count": 1,
   "id": "2bb929d0-29b6-44e9-b941-31b3a69978e4",
   "metadata": {},
   "outputs": [],
   "source": [
    "import numpy as np\n",
    "from multiprocessing import shared_memory"
   ]
  },
  {
   "cell_type": "code",
   "execution_count": 2,
   "id": "302b9807-7335-4c66-ada7-7be1a286d6f9",
   "metadata": {},
   "outputs": [],
   "source": [
    "# Attach to the existing shared memory block\n",
    "existing_shm = shared_memory.SharedMemory(name=\"shared_mem\")\n",
    "\n",
    "c = np.ndarray((250,60,80), dtype=np.int16, buffer=existing_shm.buf)"
   ]
  },
  {
   "cell_type": "code",
   "execution_count": 5,
   "id": "50619b96-f10b-4ffa-bf45-c8226288093e",
   "metadata": {},
   "outputs": [
    {
     "data": {
      "text/plain": [
       "array([[1534, 1243,  939, ..., 1000, 1009,  905],\n",
       "       [ 926, 1041, 1397, ..., 1350, 1068, 1354],\n",
       "       [ 842,  743,  689, ..., 1192, 1242, 1318],\n",
       "       ...,\n",
       "       [1069,  743,  637, ...,  371,  820, 1139],\n",
       "       [1309, 1144, 1079, ...,  777, 1023,  934],\n",
       "       [ 950, 1011,  873, ...,  706,  947,  735]], dtype=int16)"
      ]
     },
     "execution_count": 5,
     "metadata": {},
     "output_type": "execute_result"
    }
   ],
   "source": []
  },
  {
   "cell_type": "code",
   "execution_count": null,
   "id": "4f603433-d30e-4bbe-bd33-55679b98dd18",
   "metadata": {},
   "outputs": [],
   "source": []
  },
  {
   "cell_type": "code",
   "execution_count": null,
   "id": "a1ee4bd0-d44a-4936-af75-0ba96790d4ae",
   "metadata": {},
   "outputs": [],
   "source": []
  },
  {
   "cell_type": "code",
   "execution_count": null,
   "id": "99492850-ef67-41fb-8629-0aa5d208a3c0",
   "metadata": {},
   "outputs": [],
   "source": []
  },
  {
   "cell_type": "code",
   "execution_count": null,
   "id": "d4ca4481-1585-41b4-a36e-64bae475310b",
   "metadata": {},
   "outputs": [],
   "source": [
    "if platform in ('linux', 'darwin'):\n",
    "    \"\"\" This code assumes you are running on a Unix-based computing system (like Linux or macOS)\n",
    "        that allows to start a Process uing a fork() call, NOT Windows. For the latter see the else call below\n",
    "        https://docs.python.org/3.7/library/multiprocessing.html#the-spawn-and-forkserver-start-methods\"\"\"\n",
    "    q = Queue()\n",
    "    cnm2.t_wait = []\n",
    "    cnm2.t_motion = []\n",
    "    cnm2.t_fit = []\n",
    "    realtime = []\n",
    "\n",
    "    def append_to_queue(q, init_batch, T, fr):\n",
    "        t_start = time()\n",
    "        for t in range(init_batch, T):\n",
    "            # read frame and append to queue\n",
    "            frame = next(iterator)\n",
    "            q.put(frame)\n",
    "            sleep(max(0, (t+1-init_batch)/fr - time()+t_start))\n",
    "\n",
    "    producer = Process(target=append_to_queue, args=(q,init_batch,T,fr))\n",
    "    producer.start()\n",
    "\n",
    "    # process first frame\n",
    "    t = init_batch\n",
    "    # read form queue (wait for next frame if empty)\n",
    "    t0=time()\n",
    "    frame = q.get()\n",
    "    cnm2.t_wait.append(time()-t0)\n",
    "    t_start = time() + (1-init_batch)/fr\n",
    "    # motion correct\n",
    "    t0 = time()\n",
    "    frame = cnm2.mc_next(t, frame)\n",
    "    cnm2.t_motion.append(time()-t0)\n",
    "    # fit\n",
    "    t0 = time()\n",
    "    cnm2.fit_next(t, frame.ravel(order='F'))\n",
    "    cnm2.t_fit.append(time()-t0)\n",
    "    rt = time() <= t_start + t/fr\n",
    "    realtime.append(rt)\n",
    "\n",
    "    # process remaining frames\n",
    "    for t in range(init_batch+1, T):\n",
    "        # read form queue (wait for next frame if empty)\n",
    "        t0=time()\n",
    "        frame = q.get()\n",
    "        cnm2.t_wait.append(time()-t0)\n",
    "        # motion correct\n",
    "        t0 = time()\n",
    "        frame = cnm2.mc_next(t, frame)\n",
    "        cnm2.t_motion.append(time()-t0)\n",
    "        # fit\n",
    "        t0 = time()\n",
    "        cnm2.fit_next(t, frame.ravel(order='F'))\n",
    "        cnm2.t_fit.append(time()-t0)\n",
    "        rt = time() <= t_start + t/fr\n",
    "        realtime.append(rt)\n",
    "        # add code to display whatever you want in order to guide the closed-loop experiment below\n",
    "        print('Realtime: ' + (\"\\x1b[32mTrue\\x1b[0m\" if rt else \"\\x1b[31mFalse\\x1b[0m\"), end=\"  \\r\", flush=True)"
   ]
  }
 ],
 "metadata": {
  "kernelspec": {
   "display_name": "Python 3 (ipykernel)",
   "language": "python",
   "name": "python3"
  },
  "language_info": {
   "codemirror_mode": {
    "name": "ipython",
    "version": 3
   },
   "file_extension": ".py",
   "mimetype": "text/x-python",
   "name": "python",
   "nbconvert_exporter": "python",
   "pygments_lexer": "ipython3",
   "version": "3.9.2"
  }
 },
 "nbformat": 4,
 "nbformat_minor": 5
}
