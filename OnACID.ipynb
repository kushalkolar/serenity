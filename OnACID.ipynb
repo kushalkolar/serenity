{
 "cells": [
  {
   "cell_type": "markdown",
   "id": "e15cd82b-48e1-4c2d-8249-6c76f33939d2",
   "metadata": {},
   "source": [
    "### using shared memory object previously created to run OnACID"
   ]
  },
  {
   "cell_type": "code",
   "execution_count": 3,
   "id": "2bb929d0-29b6-44e9-b941-31b3a69978e4",
   "metadata": {},
   "outputs": [],
   "source": [
    "import numpy as np\n",
    "from multiprocessing.shared_memory import SharedMemory\n",
    "import caiman as cm\n",
    "from caiman.source_extraction import cnmf\n",
    "from caiman.source_extraction.cnmf.online_cnmf import demix1p\n",
    "from caiman.utils.nn_models import (fit_NL_model, create_LN_model, quantile_loss, rate_scheduler)"
   ]
  },
  {
   "cell_type": "code",
   "execution_count": 4,
   "id": "302b9807-7335-4c66-ada7-7be1a286d6f9",
   "metadata": {},
   "outputs": [],
   "source": [
    "# Attach to the existing shared memory block\n",
    "existing_shm = SharedMemory(name=\"shared-mem\")\n",
    "\n",
    "c = np.ndarray((8410, 512, 512), dtype=np.int16, buffer=existing_shm.buf)"
   ]
  },
  {
   "cell_type": "code",
   "execution_count": 6,
   "id": "a9506a66-3d17-4bfe-ac78-d59a349752e0",
   "metadata": {},
   "outputs": [
    {
     "data": {
      "text/plain": [
       "4409262080"
      ]
     },
     "execution_count": 6,
     "metadata": {},
     "output_type": "execute_result"
    }
   ],
   "source": [
    "c.nbytes"
   ]
  },
  {
   "cell_type": "code",
   "execution_count": 7,
   "id": "9b345950-3021-4978-8888-2b4afe63551d",
   "metadata": {},
   "outputs": [
    {
     "data": {
      "text/plain": [
       "<memory at 0x7fe4ff1688b0>"
      ]
     },
     "execution_count": 7,
     "metadata": {},
     "output_type": "execute_result"
    }
   ],
   "source": [
    "c.data"
   ]
  },
  {
   "cell_type": "code",
   "execution_count": 8,
   "id": "b232f5bc-2981-456d-af36-5124ded21fda",
   "metadata": {},
   "outputs": [],
   "source": [
    "fname_init = \"/home/clewis7/caiman_data/example_movies/demoMovie.tif\""
   ]
  },
  {
   "cell_type": "code",
   "execution_count": 9,
   "id": "10a81c4f-55f1-46d0-9c55-7aef6abeda3b",
   "metadata": {},
   "outputs": [],
   "source": [
    "init_batch = 200  # number of frames to use for initialization\n",
    "T = 2000           # total number of frames \n",
    "fr = 15"
   ]
  },
  {
   "cell_type": "code",
   "execution_count": 34,
   "id": "99492850-ef67-41fb-8629-0aa5d208a3c0",
   "metadata": {},
   "outputs": [],
   "source": [
    "params_dict = {'fnames': fname_init,\n",
    "               'fr': fr,\n",
    "             #  'method_init': 'greedy_roi',\n",
    "               'K': 10,\n",
    "               'gSig': (6, 6),\n",
    "          #     'merge_thr': .85,\n",
    "               'p': 1,\n",
    "             #  'tsub': 1,\n",
    "             #  'ssub': 1,\n",
    "               'nb': 2,\n",
    "               'init_batch': init_batch,\n",
    "               'init_method': 'bare',\n",
    "               'normalize': True,\n",
    "               'expected_comps': 500,\n",
    "               'rval_thr': .8,\n",
    "               'min_SNR': 1.0,\n",
    "               'min_num_trial': 10,\n",
    "               'motion_correct': True,# flag for performing motion correction\n",
    "               'ds_factor': 1,\n",
    "               'sniper_mode': True,\n",
    "               'dist_shape_update': True,\n",
    "               'epochs': 2,\n",
    "               'max_shifts_online': 10,\n",
    "               'pw_rigid': False,\n",
    "              # 'rf': 24,\n",
    "              # 'stride': 12,\n",
    "            #   'gSig_filt': None,        # size of high pass spatial filtering, used in 1p data\n",
    "             #  'use_cnn': True,\n",
    "       #        'min_cnn_thr': 0.8,\n",
    "        #       'cnn_lowest': 0.1,\n",
    "               'decay_time': 1.0,\n",
    "               'show_movie': False\n",
    "              }\n",
    "opts = cnmf.params.CNMFParams(params_dict=params_dict)"
   ]
  },
  {
   "cell_type": "code",
   "execution_count": 35,
   "id": "7c70d873-105a-44bc-b48d-679e9815390f",
   "metadata": {},
   "outputs": [
    {
     "data": {
      "text/plain": [
       "<caiman.source_extraction.cnmf.online_cnmf.OnACID at 0x7fe3f416ff70>"
      ]
     },
     "execution_count": 35,
     "metadata": {},
     "output_type": "execute_result"
    }
   ],
   "source": [
    "cnm2 = cnmf.online_cnmf.OnACID(dview=None, params=opts)\n",
    "cnm2.initialize_online(T=T)"
   ]
  },
  {
   "cell_type": "code",
   "execution_count": 36,
   "id": "a309df29-7581-4be9-907d-d53074fd998f",
   "metadata": {},
   "outputs": [],
   "source": [
    "from multiprocessing import Process, Queue\n",
    "from time import time, sleep"
   ]
  },
  {
   "cell_type": "code",
   "execution_count": 39,
   "id": "13a1fa17-e341-48c2-b32a-bf81e4c89da2",
   "metadata": {},
   "outputs": [
    {
     "name": "stderr",
     "output_type": "stream",
     "text": [
      "2023-02-27 16:26:13.755941: I tensorflow/stream_executor/cuda/cuda_dnn.cc:384] Loaded cuDNN version 8101\n"
     ]
    },
    {
     "name": "stdout",
     "output_type": "stream",
     "text": [
      "Realtime: \u001b[31mFalse\u001b[0m  \r"
     ]
    },
    {
     "name": "stderr",
     "output_type": "stream",
     "text": [
      "2023-02-27 16:26:14.845104: I tensorflow/stream_executor/cuda/cuda_blas.cc:1786] TensorFloat-32 will be used for the matrix multiplication. This will only be logged once.\n"
     ]
    },
    {
     "name": "stdout",
     "output_type": "stream",
     "text": [
      "Realtime: \u001b[32mTrue\u001b[0m         \r"
     ]
    }
   ],
   "source": [
    "q = Queue()\n",
    "cnm2.t_wait = []\n",
    "cnm2.t_motion = []\n",
    "cnm2.t_fit = []\n",
    "realtime = []\n",
    "\n",
    "def append_to_queue(q, init_batch, T, fr):\n",
    "    t_start = time()\n",
    "    for t in range(init_batch, T):\n",
    "        # read frame and append to queue\n",
    "        frame = c[t]\n",
    "        q.put(frame)\n",
    "        sleep(max(0, (t+1-init_batch)/fr - time()+t_start))\n",
    "\n",
    "producer = Process(target=append_to_queue, args=(q,init_batch,T,fr))\n",
    "producer.start()\n",
    "\n",
    "# process first frame\n",
    "t = init_batch\n",
    "# read form queue (wait for next frame if empty)\n",
    "t0=time()\n",
    "frame = q.get().astype(np.float32)\n",
    "cnm2.t_wait.append(time()-t0)\n",
    "t_start = time() + (1-init_batch)/fr\n",
    "# motion correct\n",
    "t0 = time()\n",
    "frame = cnm2.mc_next(t, frame)\n",
    "cnm2.t_motion.append(time()-t0)\n",
    "# fit\n",
    "t0 = time()\n",
    "cnm2.fit_next(t, frame.ravel(order='F'))\n",
    "cnm2.t_fit.append(time()-t0)\n",
    "rt = time() <= t_start + t/fr\n",
    "realtime.append(rt)\n",
    "\n",
    "# process remaining frames\n",
    "for t in range(init_batch+1, T):\n",
    "    # read form queue (wait for next frame if empty)\n",
    "    t0=time()\n",
    "    frame = q.get().astype(np.float32)\n",
    "    cnm2.t_wait.append(time()-t0)\n",
    "    # motion correct\n",
    "    t0 = time()\n",
    "    frame = cnm2.mc_next(t, frame)\n",
    "    cnm2.t_motion.append(time()-t0)\n",
    "    # fit\n",
    "    t0 = time()\n",
    "    cnm2.fit_next(t, frame.ravel(order='F'))\n",
    "    cnm2.t_fit.append(time()-t0)\n",
    "    rt = time() <= t_start + t/fr\n",
    "    realtime.append(rt)\n",
    "    # add code to display whatever you want in order to guide the closed-loop experiment below\n",
    "    print('Realtime: ' + (\"\\x1b[32mTrue\\x1b[0m\" if rt else \"\\x1b[31mFalse\\x1b[0m\"), end=\"  \\r\", flush=True)"
   ]
  },
  {
   "cell_type": "code",
   "execution_count": null,
   "id": "5ec6a957-a49d-417a-bf28-36dd5eaf290d",
   "metadata": {},
   "outputs": [],
   "source": [
    "type(cnm2)"
   ]
  },
  {
   "cell_type": "code",
   "execution_count": null,
   "id": "878e5bdd-122d-4807-9e88-3124fe92a2ff",
   "metadata": {},
   "outputs": [],
   "source": [
    "temporal = list(cnm2.estimates.C)"
   ]
  },
  {
   "cell_type": "code",
   "execution_count": null,
   "id": "5e65ba70-3f75-43b5-8ca8-5dba8543faa4",
   "metadata": {},
   "outputs": [],
   "source": [
    "len(temporal)"
   ]
  },
  {
   "cell_type": "code",
   "execution_count": null,
   "id": "a26f2ac6-0027-465e-b9ec-4159ecde8577",
   "metadata": {},
   "outputs": [],
   "source": [
    "from fastplotlib import Plot"
   ]
  },
  {
   "cell_type": "code",
   "execution_count": null,
   "id": "9854a092-7a42-41a8-af98-a871dd181a30",
   "metadata": {},
   "outputs": [],
   "source": [
    "plot = Plot()"
   ]
  },
  {
   "cell_type": "code",
   "execution_count": null,
   "id": "13ff4f71-f5cc-475d-89bb-6c58ed74df2e",
   "metadata": {},
   "outputs": [],
   "source": [
    "plot.add_line_stack(temporal)"
   ]
  },
  {
   "cell_type": "code",
   "execution_count": null,
   "id": "1cdd1c54-9d7f-40cc-a995-95842fe8edd9",
   "metadata": {},
   "outputs": [],
   "source": [
    "plot.show()"
   ]
  },
  {
   "cell_type": "code",
   "execution_count": null,
   "id": "70103bbc-2ece-493a-9ec9-9c9039df7aae",
   "metadata": {},
   "outputs": [],
   "source": [
    "plot.auto_scale()"
   ]
  },
  {
   "cell_type": "code",
   "execution_count": null,
   "id": "0a094039-0dbb-40f7-82c9-f0755d673b55",
   "metadata": {},
   "outputs": [],
   "source": []
  }
 ],
 "metadata": {
  "kernelspec": {
   "display_name": "Python 3 (ipykernel)",
   "language": "python",
   "name": "python3"
  },
  "language_info": {
   "codemirror_mode": {
    "name": "ipython",
    "version": 3
   },
   "file_extension": ".py",
   "mimetype": "text/x-python",
   "name": "python",
   "nbconvert_exporter": "python",
   "pygments_lexer": "ipython3",
   "version": "3.9.2"
  }
 },
 "nbformat": 4,
 "nbformat_minor": 5
}
